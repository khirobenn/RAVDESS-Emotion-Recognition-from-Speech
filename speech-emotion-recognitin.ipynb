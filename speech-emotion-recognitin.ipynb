{
 "cells": [
  {
   "cell_type": "code",
   "execution_count": null,
   "id": "afe1e7fc",
   "metadata": {},
   "outputs": [],
   "source": [
    "import pandas as pd\n",
    "import numpy as np\n",
    "import librosa\n",
    "import librosa.display\n",
    "import glob\n",
    "import matplotlib.pyplot as plt\n",
    "from tensorflow import keras"
   ]
  },
  {
   "cell_type": "code",
   "execution_count": null,
   "id": "1f9fed1d",
   "metadata": {},
   "outputs": [],
   "source": [
    "audio_files = glob.glob(\"./ravdess-emotional-speech-audio/versions/1/*/*\")\n",
    "print(audio_files)"
   ]
  },
  {
   "cell_type": "markdown",
   "id": "cd43f699",
   "metadata": {},
   "source": [
    "Each of the 1440 files has a unique filename. The filename consists of a 7-part numerical identifier (e.g., 03-01-06-01-02-01-12.wav). These identifiers define the stimulus characteristics:\n",
    "\n",
    "Filename identifiers\n",
    "\n",
    "Modality (01 = full-AV, 02 = video-only, 03 = audio-only).\n",
    "\n",
    "Vocal channel (01 = speech, 02 = song).\n",
    "\n",
    "Emotion (01 = neutral, 02 = calm, 03 = happy, 04 = sad, 05 = angry, 06 = fearful, 07 = disgust, 08 = surprised).\n",
    "\n",
    "Emotional intensity (01 = normal, 02 = strong). NOTE: There is no strong intensity for the 'neutral' emotion.\n",
    "\n",
    "Statement (01 = \"Kids are talking by the door\", 02 = \"Dogs are sitting by the door\").\n",
    "\n",
    "Repetition (01 = 1st repetition, 02 = 2nd repetition).\n",
    "\n",
    "Actor (01 to 24. Odd numbered actors are male, even numbered actors are female).\n",
    "\n",
    "Filename example: 03-01-06-01-02-01-12.wav\n",
    "\n",
    "Audio-only (03)\n",
    "Speech (01)\n",
    "Fearful (06)\n",
    "Normal intensity (01)\n",
    "Statement \"dogs\" (02)\n",
    "1st Repetition (01)\n",
    "12th Actor (12)\n",
    "Female, as the actor ID number is even.\n",
    "\n",
    "So we have to make the outputs for each audio, it means we have to select only the emotion for each audio."
   ]
  },
  {
   "cell_type": "code",
   "execution_count": null,
   "id": "2a1d2d0f",
   "metadata": {},
   "outputs": [],
   "source": [
    "emotions = [\"neutral\", \"calm\", \"happy\", \"sad\", \"angry\", \"fearful\", \"disgust\", \"surprised\"]\n",
    "Y = []\n",
    "# We will iterate in a copy of audio_files to delete all the non-audio files\n",
    "for audio in audio_files[:]:\n",
    "    if not audio.endswith(\"wav\"):\n",
    "        audio_files.remove(audio)\n",
    "    else:\n",
    "        Y.append(int(audio.split(\"-\")[-5]) -1)\n",
    "\n",
    "Y = np.array(Y)\n",
    "\n",
    "print(len(audio_files))\n",
    "print(Y)"
   ]
  },
  {
   "cell_type": "markdown",
   "id": "f59606d7",
   "metadata": {},
   "source": [
    "Preparing my inputs data"
   ]
  },
  {
   "cell_type": "code",
   "execution_count": null,
   "id": "1271e883",
   "metadata": {},
   "outputs": [],
   "source": [
    "def prepare_data(audio_files):\n",
    "    X = []\n",
    "    length = []\n",
    "    for audio in audio_files:\n",
    "        audio_file, m = librosa.load(audio, sr=22050)\n",
    "        # We delete empty sound from begining and ending\n",
    "        audio_file , _ = librosa.effects.trim(audio_file, top_db=10)\n",
    "\n",
    "        # We make sure our sound is 3 seconds before applying all the other functions on it\n",
    "        audio_file = librosa.util.fix_length(audio_file, size=3*22050)\n",
    "        y = librosa.get_duration(path=audio)\n",
    "        \n",
    "        # We apply short time fourier transform\n",
    "        audio_file_transformed = librosa.stft(audio_file)\n",
    "        # We make the spectogram\n",
    "        spectogram = np.abs(audio_file_transformed)\n",
    "        spectogram_db = librosa.amplitude_to_db(spectogram)\n",
    "        X.append(spectogram_db)\n",
    "    \n",
    "    return np.stack(X)\n",
    "\n",
    "X = prepare_data(audio_files)"
   ]
  },
  {
   "cell_type": "code",
   "execution_count": null,
   "id": "ca6fe23a",
   "metadata": {},
   "outputs": [],
   "source": [
    "fig, ax = plt.subplots(figsize=(10, 8))\n",
    "spec_image = librosa.display.specshow(X[17], x_axis=\"time\", y_axis=\"log\", ax=ax)\n",
    "print(X[0].shape)"
   ]
  },
  {
   "cell_type": "markdown",
   "id": "835115e6",
   "metadata": {},
   "source": [
    "Creating Model"
   ]
  },
  {
   "cell_type": "code",
   "execution_count": null,
   "id": "0ef8179d",
   "metadata": {},
   "outputs": [],
   "source": [
    "input = keras.Input(shape=X.shape[1:])\n",
    "reshape = keras.layers.Reshape(X.shape[1:] + (1,))(input)\n",
    "\n",
    "cnn = keras.layers.Conv2D(filters=32, kernel_size=(5,5), strides=(1,1))(reshape)\n",
    "avr = keras.layers.AveragePooling2D(pool_size=(5,5), strides=(2,2))(cnn)\n",
    "normalization = keras.layers.BatchNormalization()(avr)\n",
    "\n",
    "cnn = keras.layers.Conv2D(filters=64, kernel_size=(5,5), strides=(1,1))(normalization)\n",
    "avr = keras.layers.AveragePooling2D(pool_size=(5,5), strides=(2,2))(cnn)\n",
    "normalization = keras.layers.BatchNormalization()(avr)\n",
    "\n",
    "cnn = keras.layers.Conv2D(filters=128, kernel_size=(5,5), strides=(1,1))(normalization)\n",
    "avr = keras.layers.AveragePooling2D(pool_size=(5,5), strides=(2,2))(cnn)\n",
    "normalization = keras.layers.BatchNormalization()(avr)\n",
    "\n",
    "flatten = keras.layers.Flatten()(normalization)\n",
    "layer = keras.layers.Dense(32, activation=\"relu\")(flatten)\n",
    "output = keras.layers.Dense(8, activation=\"softmax\")(layer)\n",
    "\n",
    "model = keras.Model(inputs=input, outputs=output)\n",
    "model.summary()"
   ]
  },
  {
   "cell_type": "code",
   "execution_count": null,
   "id": "2d2897bb",
   "metadata": {},
   "outputs": [],
   "source": [
    "train_size = int(0.8*len(X))\n",
    "\n",
    "X_train = X[:train_size]\n",
    "Y_train = Y[:train_size]\n",
    "\n",
    "X_test = X[train_size:]\n",
    "Y_test = Y[train_size:]"
   ]
  },
  {
   "cell_type": "code",
   "execution_count": null,
   "id": "6f4e23a8",
   "metadata": {},
   "outputs": [],
   "source": [
    "\n",
    "model.compile(\n",
    "    loss=keras.losses.SparseCategoricalCrossentropy(from_logits=False),\n",
    "    optimizer=keras.optimizers.Adam(),\n",
    "    metrics=[keras.metrics.SparseCategoricalAccuracy()],\n",
    ")\n",
    "\n",
    "checkpoint = keras.callbacks.ModelCheckpoint(filepath=\"model.keras\", monitor=\"val_accuracy\", mode=\"max\")"
   ]
  },
  {
   "cell_type": "code",
   "execution_count": null,
   "id": "b273d087",
   "metadata": {},
   "outputs": [],
   "source": [
    "np.max(Y)"
   ]
  },
  {
   "cell_type": "code",
   "execution_count": null,
   "id": "b298480d",
   "metadata": {},
   "outputs": [],
   "source": [
    "history = model.fit(X_train, Y_train, batch_size=64, epochs=50, callbacks=checkpoint, validation_split=0.2)\n",
    "\n",
    "test_scores = model.evaluate(X_test, Y_test, verbose=2)\n",
    "print(\"Test loss:\", test_scores[0])\n",
    "print(\"Test accuracy:\", test_scores[1])"
   ]
  }
 ],
 "metadata": {
  "kernelspec": {
   "display_name": "env",
   "language": "python",
   "name": "python3"
  },
  "language_info": {
   "codemirror_mode": {
    "name": "ipython",
    "version": 3
   },
   "file_extension": ".py",
   "mimetype": "text/x-python",
   "name": "python",
   "nbconvert_exporter": "python",
   "pygments_lexer": "ipython3",
   "version": "3.13.7"
  }
 },
 "nbformat": 4,
 "nbformat_minor": 5
}
